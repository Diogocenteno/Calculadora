{
  "nbformat": 4,
  "nbformat_minor": 0,
  "metadata": {
    "colab": {
      "provenance": []
    },
    "kernelspec": {
      "name": "python3",
      "display_name": "Python 3"
    },
    "language_info": {
      "name": "python"
    }
  },
  "cells": [
    {
      "cell_type": "code",
      "execution_count": 1,
      "metadata": {
        "colab": {
          "base_uri": "https://localhost:8080/"
        },
        "id": "8KhrVz1qZGFn",
        "outputId": "60236396-ff30-4e48-87dd-1010a6ae52ee"
      },
      "outputs": [
        {
          "output_type": "stream",
          "name": "stdout",
          "text": [
            "Escolha uma Operação:\n",
            "1. Multiplicação\n",
            "2. Divisão\n",
            "3. Soma\n",
            "4. Subtração\n",
            "5. Sair\n",
            "Digite o número da operação desejada (1/2/3/4/5): 2\n",
            "Digite o primeiro número: 67\n",
            "Digite o segundo número: 98\n",
            "Resultado da divisão é: 0.6836734693877551\n",
            "Escolha uma Operação:\n",
            "1. Multiplicação\n",
            "2. Divisão\n",
            "3. Soma\n",
            "4. Subtração\n",
            "5. Sair\n",
            "Digite o número da operação desejada (1/2/3/4/5): 5\n",
            "Saindo do programa.\n"
          ]
        }
      ],
      "source": [
        "while True:\n",
        "    print(\"Escolha uma Operação:\")\n",
        "    print(\"1. Multiplicação\")\n",
        "    print(\"2. Divisão\")\n",
        "    print(\"3. Soma\")\n",
        "    print(\"4. Subtração\")\n",
        "    print(\"5. Sair\")\n",
        "\n",
        "    escolha = input(\"Digite o número da operação desejada (1/2/3/4/5): \")\n",
        "\n",
        "    if escolha == '5':\n",
        "        print(\"Saindo do programa.\")\n",
        "        break\n",
        "\n",
        "    if escolha not in ['1', '2', '3', '4']:\n",
        "        print(\"Opção inválida. Tente novamente.\")\n",
        "        continue\n",
        "\n",
        "    # Solicite dois números ao usuário\n",
        "    num1 = int(input(\"Digite o primeiro número: \"))\n",
        "    num2 = int(input(\"Digite o segundo número: \"))\n",
        "\n",
        "    # Operação e Resultado\n",
        "    if escolha == '1':\n",
        "        resultado = num1 * num2\n",
        "        print(f\"Resultado da multiplicação é: {resultado}\")\n",
        "\n",
        "    elif escolha == '2':\n",
        "        if num2 == 0:\n",
        "            print(\"Erro: Divisão por zero não permitida.\")\n",
        "        else:\n",
        "            resultado = num1 / num2\n",
        "            print(f\"Resultado da divisão é: {resultado}\")\n",
        "\n",
        "    elif escolha == '3':\n",
        "        resultado = num1 + num2\n",
        "        print(f\"Resultado da soma é: {resultado}\")\n",
        "\n",
        "    elif escolha == '4':\n",
        "        resultado = num1 - num2\n",
        "        print(f\"Resultado da subtração é: {resultado}\")"
      ]
    }
  ]
}